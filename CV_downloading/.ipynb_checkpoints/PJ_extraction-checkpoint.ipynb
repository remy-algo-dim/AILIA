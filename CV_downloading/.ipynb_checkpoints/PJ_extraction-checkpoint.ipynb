{
 "cells": [
  {
   "cell_type": "code",
   "execution_count": 3,
   "id": "statewide-playing",
   "metadata": {},
   "outputs": [],
   "source": [
    "import smtplib\n",
    "import mimetypes\n",
    "from email.mime.multipart import MIMEMultipart\n",
    "from email import encoders\n",
    "from email.message import Message\n",
    "from email.mime.audio import MIMEAudio\n",
    "from email.mime.base import MIMEBase\n",
    "from email.mime.image import MIMEImage\n",
    "from email.mime.text import MIMEText\n",
    "from email.mime.application import MIMEApplication\n",
    "\n",
    "import imaplib\n",
    "import base64\n",
    "import os\n",
    "import email"
   ]
  },
  {
   "cell_type": "markdown",
   "id": "medical-moldova",
   "metadata": {},
   "source": [
    "### Permet d'interagir avec OUTLOOK"
   ]
  },
  {
   "cell_type": "code",
   "execution_count": 71,
   "id": "current-amount",
   "metadata": {},
   "outputs": [],
   "source": [
    "server = 'outlook.office365.com'\n",
    "user = \"remyadda@msn.com\"\n",
    "password = \"Leomessi26\"\n",
    "outputdir = '/Users/remyadda/Desktop/test'\n",
    "subject = 'CV' #subject line of the emails you want to download attachments from"
   ]
  },
  {
   "cell_type": "code",
   "execution_count": 72,
   "id": "subjective-imagination",
   "metadata": {},
   "outputs": [],
   "source": [
    "def connect(server, user, password):\n",
    "    \"\"\"Connexion à la boite mail\"\"\"\n",
    "    m = imaplib.IMAP4_SSL(server)\n",
    "    m.login(user, password)\n",
    "    m.select()\n",
    "    return m\n",
    "\n",
    "# downloads attachment for an email id, which is a unique identifier for an\n",
    "# email, which is obtained through the msg object in imaplib, see below \n",
    "# subjectQuery function. 'emailid' is a variable in the msg object class.\n",
    "\n",
    "def downloaAttachmentsInEmail(m, emailid, outputdir):\n",
    "    resp, data = m.fetch(emailid, \"(BODY.PEEK[])\")\n",
    "    email_body = data[0][1]\n",
    "    mail = email.message_from_bytes(email_body)\n",
    "    if mail.get_content_maintype() != 'multipart':\n",
    "        return\n",
    "    for part in mail.walk():\n",
    "        if part.get_content_maintype() != 'multipart' and part.get('Content-Disposition') is not None:\n",
    "            open(outputdir + '/' + part.get_filename(), 'wb').write(part.get_payload(decode=True))"
   ]
  },
  {
   "cell_type": "code",
   "execution_count": 84,
   "id": "essential-northeast",
   "metadata": {},
   "outputs": [],
   "source": [
    "def subjectQuery(subject):\n",
    "    \"\"\"Input : Objet du mail\n",
    "       Output : Telecharge en local la PJ\"\"\"\n",
    "    m = connect(server, user, password)\n",
    "    m.select(\"Inbox\")\n",
    "    typ, msgs = m.search(None, '(SUBJECT \"' + subject + '\")')\n",
    "    msgs = msgs[0].split()\n",
    "    for emailid in msgs:\n",
    "        downloaAttachmentsInEmail(m, emailid, outputdir)"
   ]
  },
  {
   "cell_type": "code",
   "execution_count": null,
   "id": "above-society",
   "metadata": {},
   "outputs": [],
   "source": [
    "#TEST\n",
    "subjectQuery('CV 3')"
   ]
  }
 ],
 "metadata": {
  "kernelspec": {
   "display_name": "Python 3",
   "language": "python",
   "name": "python3"
  },
  "language_info": {
   "codemirror_mode": {
    "name": "ipython",
    "version": 3
   },
   "file_extension": ".py",
   "mimetype": "text/x-python",
   "name": "python",
   "nbconvert_exporter": "python",
   "pygments_lexer": "ipython3",
   "version": "3.7.3"
  }
 },
 "nbformat": 4,
 "nbformat_minor": 5
}
