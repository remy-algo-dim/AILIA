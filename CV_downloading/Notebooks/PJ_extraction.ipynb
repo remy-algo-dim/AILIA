{
 "cells": [
  {
   "cell_type": "code",
   "execution_count": 1,
   "id": "statewide-playing",
   "metadata": {},
   "outputs": [],
   "source": [
    "import smtplib\n",
    "import mimetypes\n",
    "from email.mime.multipart import MIMEMultipart\n",
    "from email import encoders\n",
    "from email.message import Message\n",
    "from email.mime.audio import MIMEAudio\n",
    "from email.mime.base import MIMEBase\n",
    "from email.mime.image import MIMEImage\n",
    "from email.mime.text import MIMEText\n",
    "from email.mime.application import MIMEApplication\n",
    "\n",
    "import imaplib\n",
    "import base64\n",
    "import os\n",
    "import email\n",
    "\n",
    "import sys\n",
    "import email.header\n",
    "import datetime"
   ]
  },
  {
   "cell_type": "markdown",
   "id": "medical-moldova",
   "metadata": {},
   "source": [
    "### Permet d'interagir avec OUTLOOK"
   ]
  },
  {
   "cell_type": "code",
   "execution_count": 2,
   "id": "current-amount",
   "metadata": {},
   "outputs": [],
   "source": [
    "server = 'outlook.office365.com'\n",
    "user = \"remyadda@msn.com\"\n",
    "password = \"Leomessi26\"\n",
    "outputdir = '/Users/remyadda/Desktop/test'\n",
    "subject = 'CV' #subject line of the emails you want to download attachments from"
   ]
  },
  {
   "cell_type": "markdown",
   "id": "6df77349",
   "metadata": {},
   "source": [
    "### Some functions"
   ]
  },
  {
   "cell_type": "code",
   "execution_count": 16,
   "id": "subjective-imagination",
   "metadata": {},
   "outputs": [],
   "source": [
    "def connect(server, user, password):\n",
    "    \"\"\"Connexion à la boite mail\"\"\"\n",
    "    connexion = imaplib.IMAP4_SSL(server)\n",
    "    connexion.login(user, password)\n",
    "    connexion.select()\n",
    "    return connexion\n",
    "\n",
    "def close_session(connexion):\n",
    "    m.close()\n",
    "    m.logout()\n",
    "    \n",
    "# downloads attachment for an email id, which is a unique identifier for an\n",
    "# email, which is obtained through the msg object in imaplib, see below \n",
    "# subjectQuery function. 'emailid' is a variable in the msg object class.\n",
    "\n",
    "def downloaAttachmentsInEmail(connexion, emailid, outputdir):\n",
    "    try:\n",
    "        #si emailid est type byte\n",
    "        resp, data = connexion.fetch(emailid, \"(BODY.PEEK[])\")\n",
    "    except:\n",
    "        #si emailid est type string\n",
    "        resp, data = connexion.fetch(str.encode(emailid), \"(BODY.PEEK[])\")\n",
    "    email_body = data[0][1]\n",
    "    mail = email.message_from_bytes(email_body)\n",
    "    if mail.get_content_maintype() != 'multipart':\n",
    "        return\n",
    "    for part in mail.walk():\n",
    "        if part.get_content_maintype() != 'multipart' and part.get('Content-Disposition') is not None:\n",
    "            open(outputdir + '/' + part.get_filename(), 'wb').write(part.get_payload(decode=True))"
   ]
  },
  {
   "cell_type": "code",
   "execution_count": 4,
   "id": "essential-northeast",
   "metadata": {},
   "outputs": [],
   "source": [
    "# Utilise ssi on utilise l'objet du mail pour télécharger la PJ\n",
    "def subjectQuery(connexion, subject, outputdir):\n",
    "    \"\"\"Input : Objet du mail\n",
    "       Output : Telecharge en local la PJ\"\"\"\n",
    "    connexion.select(\"Inbox\")\n",
    "    typ, msgs = connexion.search(None, '(SUBJECT \"' + subject + '\")')\n",
    "    msgs = msgs[0].split()\n",
    "    for emailid in msgs:\n",
    "        print(emailid)\n",
    "        downloaAttachmentsInEmail(connexion, emailid, outputdir)"
   ]
  },
  {
   "cell_type": "code",
   "execution_count": 186,
   "id": "d788547d",
   "metadata": {},
   "outputs": [],
   "source": [
    "#TEST : subjectQuery(m, 'CV 3', outputdir)"
   ]
  },
  {
   "cell_type": "code",
   "execution_count": 6,
   "id": "7c0aeab3",
   "metadata": {},
   "outputs": [],
   "source": [
    "def get_last_mails(connexion, x):\n",
    "    \"\"\"Input: connexion et x derniers ids de mails que l'on souhaite récupérer\n",
    "       Outputs: liste de x derniers ids des mails\"\"\"\n",
    "    # On récupère la liste de tous les index des mails de INBOX (à confirmer pour \"tous\")\n",
    "    rv, data = connexion.search(None, \"ALL\")\n",
    "    if rv != 'OK':\n",
    "        print(\"No messages found!\")\n",
    "    #Binary to string + clean\n",
    "    index_list = data[0].decode(\"utf-8\").split()\n",
    "    index_list.reverse()\n",
    "    return index_list[:x]"
   ]
  },
  {
   "cell_type": "code",
   "execution_count": 7,
   "id": "da99e30b",
   "metadata": {
    "scrolled": false
   },
   "outputs": [],
   "source": [
    "def get_subject(connexion, list_mails_index):\n",
    "    \"\"\"Input: connexion et nbe de mails que l'on souhaite récupérer\n",
    "       Output: \"\"\"\n",
    "\n",
    "    connexion.select('INBOX', readonly=True)\n",
    "    from_list, subject_list = [], []\n",
    "    for i in list_mails_index:\n",
    "        typ, msg_data = m.fetch(str(i), '(RFC822)')\n",
    "        for response_part in msg_data:\n",
    "            if isinstance(response_part, tuple):\n",
    "                msg = email.message_from_string(response_part[1].decode(\"utf-8\"))\n",
    "                for header in [ 'subject', 'to', 'from' ]:\n",
    "                    print('%-8s: %s' % (header.upper(), msg[header]))\n",
    "                    if header == 'subject':\n",
    "                        subject_list.append(msg[header])\n",
    "                    if header == 'from':\n",
    "                        from_list.append(msg[header])\n",
    "    connexion.close()\n",
    "    connexion.logout()\n",
    "    return from_list, subject_list"
   ]
  },
  {
   "cell_type": "code",
   "execution_count": 8,
   "id": "ebf32979",
   "metadata": {},
   "outputs": [],
   "source": [
    "#connexion\n",
    "m = connect(server, user, password)\n",
    "#get list of last 5 mails\n",
    "p = get_last_mails(m, 5)\n",
    "# get from and subject (not mandatory)\n",
    "fr, sub = get_subject(m, p)"
   ]
  },
  {
   "cell_type": "code",
   "execution_count": 15,
   "id": "99eb9a33",
   "metadata": {},
   "outputs": [],
   "source": [
    "#TEST (on telecharge les PJ de la liste de mails p)\n",
    "for i in p:\n",
    "    downloaAttachmentsInEmail(m, i, \"/Users/remyadda/Desktop/AD/Projets/ALFRED/ALFRED_PROJECT/CV_downloading/\")"
   ]
  }
 ],
 "metadata": {
  "kernelspec": {
   "display_name": "Python 3",
   "language": "python",
   "name": "python3"
  },
  "language_info": {
   "codemirror_mode": {
    "name": "ipython",
    "version": 3
   },
   "file_extension": ".py",
   "mimetype": "text/x-python",
   "name": "python",
   "nbconvert_exporter": "python",
   "pygments_lexer": "ipython3",
   "version": "3.9.0"
  }
 },
 "nbformat": 4,
 "nbformat_minor": 5
}
