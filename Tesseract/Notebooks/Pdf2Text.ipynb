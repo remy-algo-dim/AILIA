{
 "cells": [
  {
   "cell_type": "code",
   "execution_count": 53,
   "id": "ff44f794",
   "metadata": {},
   "outputs": [],
   "source": [
    "from PIL import Image    \n",
    "from PyPDF2 import PdfFileReader\n",
    "import pdftotext\n",
    "import PyPDF2\n",
    "import fitz"
   ]
  },
  {
   "cell_type": "code",
   "execution_count": null,
   "id": "120284ee",
   "metadata": {},
   "outputs": [],
   "source": [
    "pdfcv = 'CV  M.DIABY Assistante Administrative.pdf'\n",
    "\n",
    "doc = fitz.open(pdfcv)\n",
    "text = \"\"\n",
    "\n",
    "for page in doc:\n",
    "    text += str(page.getText())\n",
    "    \n",
    "text"
   ]
  }
 ],
 "metadata": {
  "kernelspec": {
   "display_name": "Python 3",
   "language": "python",
   "name": "python3"
  },
  "language_info": {
   "codemirror_mode": {
    "name": "ipython",
    "version": 3
   },
   "file_extension": ".py",
   "mimetype": "text/x-python",
   "name": "python",
   "nbconvert_exporter": "python",
   "pygments_lexer": "ipython3",
   "version": "3.9.0"
  }
 },
 "nbformat": 4,
 "nbformat_minor": 5
}
