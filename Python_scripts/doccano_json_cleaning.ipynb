{
 "cells": [
  {
   "cell_type": "code",
   "execution_count": 111,
   "id": "portuguese-salmon",
   "metadata": {},
   "outputs": [],
   "source": [
    "import pandas as pd\n",
    "import json\n",
    "import ast"
   ]
  },
  {
   "cell_type": "code",
   "execution_count": 12,
   "id": "confirmed-essay",
   "metadata": {},
   "outputs": [],
   "source": [
    "path_data_to_clean = \"../Datas/Doccano/doccano_skills_outputs.jsonl\""
   ]
  },
  {
   "cell_type": "markdown",
   "id": "inner-distinction",
   "metadata": {},
   "source": [
    "### Fonctions permettant de clean un JSONL file"
   ]
  },
  {
   "cell_type": "code",
   "execution_count": 112,
   "id": "sustained-extra",
   "metadata": {},
   "outputs": [],
   "source": [
    "def read_jsonl(path_json_file):\n",
    "    with open(path_json_file, 'r') as json_file:\n",
    "        json_list = list(json_file)\n",
    "    return json_list\n",
    "\n",
    "def clean_string(doc):\n",
    "    \"\"\"Permet de clean un string\"\"\"\n",
    "    doc = doc.replace('SAUTDELIGNE', '')\n",
    "    return doc\n",
    "\n",
    "def clean_full_json(path_json_file, path_new_file):\n",
    "    \"\"\"Permet de clean un fichier jsonl\"\"\"\n",
    "    with open(path_json_file, 'r') as json_file:\n",
    "        json_list = list(json_file)\n",
    "    \n",
    "    #On met le tout au format texte, sous la forme recquise par Doccano\n",
    "    doc = ''\n",
    "    for json_str in json_list:\n",
    "        #d in a string of dict\n",
    "        d = json_str\n",
    "        doc += str(d)\n",
    "    \n",
    "    #On nettoie tout le texte\n",
    "    doc = clean_string(doc)\n",
    "    \n",
    "    #On save au jsonl format pour Doccano (mettre .jsonl dans le path_new_file)\n",
    "    with open(path_new_file, \"w\") as file:\n",
    "        file.write(doc)"
   ]
  },
  {
   "cell_type": "code",
   "execution_count": 78,
   "id": "dimensional-gender",
   "metadata": {},
   "outputs": [],
   "source": [
    "clean_full_json(path_data_to_clean, \"../Datas/skills_doccano_inputs_new.jsonl\")"
   ]
  },
  {
   "cell_type": "markdown",
   "id": "turkish-wallace",
   "metadata": {},
   "source": [
    "### Doccano Pb exportation\n",
    "###### Ce bout de code permet de mettre au bon format ce qui a ete exporté par Doccano"
   ]
  },
  {
   "cell_type": "code",
   "execution_count": 117,
   "id": "ignored-directory",
   "metadata": {},
   "outputs": [],
   "source": [
    "def oneDictToGoodFormat(python_dict, labels):\n",
    "    \"\"\"Parfois en exportant les CV labelises via Doccano, le format n'est pas bon.\n",
    "    Cette fonction sert a mettre CHAQUE output au bon format\"\"\"\n",
    "    old_labels = python_dict['annotations']\n",
    "    new_labels = []\n",
    "    for d in old_labels:\n",
    "        try:\n",
    "            sublist = []\n",
    "            # Retrieve Start index, End index, Name label\n",
    "            s = d['start_offset']\n",
    "            e = d['end_offset']\n",
    "            name = d['label']\n",
    "            new_name = labels[str(name)]\n",
    "            sublist.extend([s, e, new_name])\n",
    "            new_labels.append(sublist)\n",
    "        except:\n",
    "            #Il s'agit du cas ou certains labels sont presents dans le json mais pas dans le dictionnaire \"labels\"\n",
    "            pass\n",
    "    # Drop useful element\n",
    "    del python_dict['annotations']\n",
    "    del python_dict['comment_count']\n",
    "    python_dict[\"labels\"] = new_labels\n",
    "    return python_dict"
   ]
  },
  {
   "cell_type": "code",
   "execution_count": 114,
   "id": "independent-initial",
   "metadata": {},
   "outputs": [],
   "source": [
    "def FullFileToGoodFormat(path_new_file, list_of_labelized_datas):\n",
    "    \"\"\"Permet de mettre le JSON complet issu de DOCCANO au bon \n",
    "    format pour RUN le NER\"\"\"\n",
    "    with open(path_new_file, \"w\") as file:\n",
    "        for i in range(len(list_of_labelized_datas)):\n",
    "            python_dict = json.loads(list_of_labelized_datas[i])\n",
    "            python_dict = oneDictToGoodFormat(python_dict, labels)\n",
    "            file.write(json.dumps(python_dict))\n",
    "            file.write('\\n')"
   ]
  },
  {
   "cell_type": "code",
   "execution_count": 106,
   "id": "ideal-transport",
   "metadata": {},
   "outputs": [],
   "source": [
    "# Liste des labels définis dans DOCCANO\n",
    "labels = {\n",
    "    '1': \"U-SKILLS\", '2': \"B-SKILLS\", '3' :\"I-SKILLS\", '4':\"L-SKILLS\", '5':\"U-ANGLAIS\",'6':\"U-NIVEAU_ANGLAIS\",\n",
    "    '7':\"B-NIVEAU_ANGLAIS\",'8':\"I-NIVEAU_ANGLAIS\", '9':\"L-NIVEAU_ANGLAIS\", '10':\"U-OTHER_LANGUAGE\",\n",
    "    '11':\"U-ATOUTS\", '12':\"B-ATOUTS\", '13':\"I-ATOUTS\", '14':\"L-ATOUTS\"\n",
    "  }"
   ]
  },
  {
   "cell_type": "code",
   "execution_count": 107,
   "id": "appropriate-desperate",
   "metadata": {},
   "outputs": [],
   "source": [
    "# Lecture du JSON issu de DOCCANO\n",
    "path_data_to_clean = \"../Datas/Doccano/doccano_skills_outputs.jsonl\"\n",
    "list_of_labelized_datas = read_jsonl(path_data_to_clean)"
   ]
  },
  {
   "cell_type": "code",
   "execution_count": 109,
   "id": "precise-reflection",
   "metadata": {},
   "outputs": [],
   "source": [
    "# Creation du nouiveau JSON au bon format\n",
    "FullFileToGoodFormat(\"../Datas/Doccano/doccano_skills_outputs.jsonl\", list_of_labelized_datas)"
   ]
  },
  {
   "cell_type": "code",
   "execution_count": null,
   "id": "relative-portal",
   "metadata": {},
   "outputs": [],
   "source": []
  },
  {
   "cell_type": "code",
   "execution_count": 118,
   "id": "electrical-warning",
   "metadata": {},
   "outputs": [],
   "source": [
    "# Liste des labels définis dans DOCCANO SANS ATOUTS\n",
    "labels = {\n",
    "    '1': \"U-SKILLS\", '2': \"B-SKILLS\", '3' :\"I-SKILLS\", '4':\"L-SKILLS\", '5':\"U-ANGLAIS\",'6':\"U-NIVEAU_ANGLAIS\",\n",
    "    '7':\"B-NIVEAU_ANGLAIS\",'8':\"I-NIVEAU_ANGLAIS\", '9':\"L-NIVEAU_ANGLAIS\", '10':\"U-OTHER_LANGUAGE\"\n",
    "  }"
   ]
  },
  {
   "cell_type": "code",
   "execution_count": null,
   "id": "answering-stevens",
   "metadata": {},
   "outputs": [],
   "source": []
  }
 ],
 "metadata": {
  "kernelspec": {
   "display_name": "Python 3",
   "language": "python",
   "name": "python3"
  },
  "language_info": {
   "codemirror_mode": {
    "name": "ipython",
    "version": 3
   },
   "file_extension": ".py",
   "mimetype": "text/x-python",
   "name": "python",
   "nbconvert_exporter": "python",
   "pygments_lexer": "ipython3",
   "version": "3.7.3"
  }
 },
 "nbformat": 4,
 "nbformat_minor": 5
}
